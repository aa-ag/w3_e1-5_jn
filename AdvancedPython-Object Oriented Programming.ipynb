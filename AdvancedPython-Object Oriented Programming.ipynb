{
 "cells": [
  {
   "cell_type": "markdown",
   "metadata": {},
   "source": [
    "# Advanced Object-Oriented-Programming (OOP)"
   ]
  },
  {
   "cell_type": "markdown",
   "metadata": {},
   "source": [
    "## Tasks Today:\n",
    "\n",
    "1) <b>Creating Multiple Instances Through Loops</b> <br>\n",
    " &nbsp;&nbsp;&nbsp;&nbsp; a) Using Loops <br>\n",
    " &nbsp;&nbsp;&nbsp;&nbsp; b) Using Multiple Lists with Loops <br>\n",
    " &nbsp;&nbsp;&nbsp;&nbsp; c) Using List Comprehension with Classes<br>\n",
    " &nbsp;&nbsp;&nbsp;&nbsp; d) In-Class Exercise #1 <br>\n",
    "2) <b>Magic Methods</b> <br>\n",
    " &nbsp;&nbsp;&nbsp;&nbsp; a) \\__str\\__ <br>\n",
    " &nbsp;&nbsp;&nbsp;&nbsp; b) \\__add\\__ <br>\n",
    " &nbsp;&nbsp;&nbsp;&nbsp; c) Overriding Magic Methods <br>\n",
    " &nbsp;&nbsp;&nbsp;&nbsp; d) In-Class Exercise #2 <br>\n",
    "3) <b>Inheritance & Method Overriding (recap)</b> <br>\n",
    " &nbsp;&nbsp;&nbsp;&nbsp; a) Inheriting (recap)  <br>\n",
    " &nbsp;&nbsp;&nbsp;&nbsp; b) Overriding Inherited Magic Methods <br>\n",
    " &nbsp;&nbsp;&nbsp;&nbsp; c) Inheriting Multiple Classes <br>\n",
    " &nbsp;&nbsp;&nbsp;&nbsp; d) In-Class Exercise #3 <br>"
   ]
  },
  {
   "cell_type": "markdown",
   "metadata": {},
   "source": [
    "## Creating Multiple Instances Through Loops <br>\n",
    "<p>We can use loops to create multiple instances of a single object in just a couple of lines, even just one line.</p>"
   ]
  },
  {
   "cell_type": "markdown",
   "metadata": {},
   "source": [
    "#### Using Loops"
   ]
  },
  {
   "cell_type": "code",
   "execution_count": 16,
   "metadata": {},
   "outputs": [
    {
     "name": "stdout",
     "output_type": "stream",
     "text": [
      "Lassie has 4 legs\n",
      "Max has 4 legs\n",
      "Max has 0 legs\n",
      "Max has 1 legs\n",
      "Max has 2 legs\n",
      "Max has 3 legs\n",
      "Max has 4 legs\n"
     ]
    }
   ],
   "source": [
    "class Dog():\n",
    "    def __init__(self, name, legs):\n",
    "        self.name = name\n",
    "        self.legs = legs\n",
    "    \n",
    "    def printInfo(self):\n",
    "        print(f\"{self.name} has {self.legs} legs.\")\n",
    "\n",
    "# Multiple instances assigned into differ\n",
    "dog1 = Dog('Lassie', 4)\n",
    "dog2 = Dog('Max', 4)\n",
    "\n",
    "dog1.printInfo()\n",
    "dog2.printInfo()\n",
    "\n",
    "# Empty list that holds all dog instances\n",
    "dogs = []\n",
    "\n",
    "for i in range(5):\n",
    "    dogs.append(Dog('Max', i))\n",
    "\n",
    "# dogs[0].printInfo()\n",
    "\n",
    "for i in range(len(dogs)):\n",
    "    dogs[i].printInfo()"
   ]
  },
  {
   "cell_type": "markdown",
   "metadata": {},
   "source": [
    "#### Using Multiple Lists with Loops"
   ]
  },
  {
   "cell_type": "code",
   "execution_count": 20,
   "metadata": {},
   "outputs": [
    {
     "name": "stdout",
     "output_type": "stream",
     "text": [
      "Max has 4 legs\n",
      "Sam has 4 legs\n",
      "Clifford has 4 legs\n",
      "Lassie has 4 legs\n",
      "Butch has 4 legs\n"
     ]
    }
   ],
   "source": [
    "names = ['Max', 'Sam', 'Clifford', 'Lassie', 'Butch']\n",
    "dogs_list = []\n",
    "\n",
    "for i in range(len(names)):\n",
    "    dogs_list.append(Dog(names[i], 4))\n",
    "\n",
    "for i in range(len(dogs_list)):\n",
    "    dogs_list[i].printInfo()"
   ]
  },
  {
   "cell_type": "markdown",
   "metadata": {},
   "source": [
    "#### Using List Comprehension with Classes"
   ]
  },
  {
   "cell_type": "code",
   "execution_count": 21,
   "metadata": {},
   "outputs": [
    {
     "name": "stdout",
     "output_type": "stream",
     "text": [
      "Max has 4 legs\n",
      "Sam has 4 legs\n",
      "Clifford has 4 legs\n",
      "Lassie has 4 legs\n",
      "Butch has 4 legs\n"
     ]
    }
   ],
   "source": [
    "dogs = [Dog(names[i], 4) for i in range(len(names))]\n",
    "\n",
    "for dog in dogs:\n",
    "    dog.printInfo()"
   ]
  },
  {
   "cell_type": "markdown",
   "metadata": {},
   "source": [
    "#### In-Class Exercise #1 - Use List Comprehension to create multiple 'Dog' objects using the lists below... <br>\n",
    "<p>names = ['max', 'lassy', 'sammi']<br>colors=['brown', 'black', 'mix']</p>"
   ]
  },
  {
   "cell_type": "code",
   "execution_count": 35,
   "metadata": {},
   "outputs": [
    {
     "name": "stdout",
     "output_type": "stream",
     "text": [
      "Max is the color brown\n",
      "Lassy is the color black\n",
      "Sammi is the color mix\n"
     ]
    }
   ],
   "source": [
    "names = ['max', 'lassy', 'sammi']\n",
    "colors= ['brown', 'black', 'mix']\n",
    "\n",
    "class Dog():\n",
    "    def __init__(self, name, color):\n",
    "        self.name = name\n",
    "        self.color = color\n",
    "        \n",
    "    def printInfo(self):\n",
    "        print(f\"{self.name.title()} is the color {self.color}\")\n",
    "        \n",
    "dogs = [Dog(names[i], colors[i]) for i in range(len(names))]   \n",
    "\n",
    "for dog in dogs:\n",
    "    dog.printInfo()"
   ]
  },
  {
   "cell_type": "markdown",
   "metadata": {},
   "source": [
    "## Magic Methods <br>\n",
    "<p>Magic methods are any method that begins and ends with two underscores... You've already seen one of them in __init__(). Magic methods are the general functionality of an object, and you have the ability to overwrite what those methods do, giving you flexibility in your program.</p>"
   ]
  },
  {
   "cell_type": "markdown",
   "metadata": {},
   "source": [
    "#### \\__str\\__ <br>\n",
    "<p>This is the output of an object when you print the object itself.</p>"
   ]
  },
  {
   "cell_type": "code",
   "execution_count": 36,
   "metadata": {},
   "outputs": [
    {
     "name": "stdout",
     "output_type": "stream",
     "text": [
      "Jack is 27 years old and has 10 toes\n"
     ]
    }
   ],
   "source": [
    "class Person():\n",
    "    def __init__(self, name, age, number_of_toes):\n",
    "        self.name = name\n",
    "        self.age = age\n",
    "        self.number_of_toes = number_of_toes\n",
    "        \n",
    "    def __str__(self):\n",
    "        return f\"{self.name} is {self.age} years old and has {self.number_of_toes} toes\"\n",
    "\n",
    "jack = Person('Jack', '27', '10')\n",
    "print(jack)\n",
    "\n",
    "class Elevator():\n",
    "    def __init__(self, floor):\n",
    "        self.floor = floor\n",
    "        \n",
    "building_elevator = Elevator(4)\n",
    "\n",
    "building_elevator.__str__() # ???"
   ]
  },
  {
   "cell_type": "markdown",
   "metadata": {},
   "source": [
    "#### \\__add\\__"
   ]
  },
  {
   "cell_type": "code",
   "execution_count": 42,
   "metadata": {},
   "outputs": [
    {
     "name": "stdout",
     "output_type": "stream",
     "text": [
      "44\n"
     ]
    }
   ],
   "source": [
    "class Cat():\n",
    "    def __init__(self, name, color, legs):\n",
    "        self.name = name\n",
    "        self.color = color\n",
    "        self.legs = legs\n",
    "        \n",
    "    def __add__(self, extra_legs):\n",
    "        if type(extra_legs) != int:\n",
    "            return self.legs + extra_legs.legs\n",
    "        else:\n",
    "            return self.elgs + extra_legs\n",
    "\n",
    "cat1 = Cat('Max', 'mixed', '4')\n",
    "cat2 = Cat('Garfield', 'Orange', '4')\n",
    "\n",
    "num_legs = cat1 + cat2\n",
    "print(num_legs)\n",
    "        "
   ]
  },
  {
   "cell_type": "markdown",
   "metadata": {},
   "source": [
    "#### Overriding Magic Methods"
   ]
  },
  {
   "cell_type": "code",
   "execution_count": null,
   "metadata": {},
   "outputs": [],
   "source": [
    "# see above"
   ]
  },
  {
   "cell_type": "markdown",
   "metadata": {},
   "source": [
    "#### In-Class Exercise #2 - Google another magic method and overwrite it's functionality..."
   ]
  },
  {
   "cell_type": "code",
   "execution_count": 59,
   "metadata": {},
   "outputs": [
    {
     "name": "stdout",
     "output_type": "stream",
     "text": [
      "False\n",
      "7 is greater\n",
      "None\n",
      "False\n"
     ]
    }
   ],
   "source": [
    "class Cat():\n",
    "    def __init__(self, name, color, legs):\n",
    "        self.name = name\n",
    "        self.color = color\n",
    "        self.legs = legs\n",
    "        \n",
    "    def __int__(self):\n",
    "        if type(self.legs) != int:\n",
    "            return int(self.legs)\n",
    "        \n",
    "    def __eq__(self, extra):\n",
    "        if self.legs == extra.legs:\n",
    "            return True\n",
    "        else:\n",
    "            return False\n",
    "        \n",
    "    def __ge__(self, extra):\n",
    "        if self.legs > extra.legs:\n",
    "            print(f\"{self.legs} is greater\")\n",
    "        elif self.legs >= extra.legs:\n",
    "            print(f\"{self.legs} and {extra.legs} are the same\")\n",
    "        else:\n",
    "            return False\n",
    "        \n",
    "cat1 = Cat('max', 'mixed', 7)\n",
    "cat2 = Cat('bruno', 'black', 5)\n",
    "\n",
    "print(cat1 == cat2)\n",
    "print(cat1 >= cat2)\n",
    "print(cat1 <= cat2)\n"
   ]
  },
  {
   "cell_type": "markdown",
   "metadata": {},
   "source": [
    "## Inheritance & Method Overriding (recap)"
   ]
  },
  {
   "cell_type": "markdown",
   "metadata": {},
   "source": [
    "#### Inheriting (recap)"
   ]
  },
  {
   "cell_type": "code",
   "execution_count": 60,
   "metadata": {},
   "outputs": [
    {
     "name": "stdout",
     "output_type": "stream",
     "text": [
      "This is a Mammal.\n",
      "Frank is a part of the Mammal species.\n"
     ]
    }
   ],
   "source": [
    "class Animal():\n",
    "    def __init__(self, species):\n",
    "        self.species = species\n",
    "        \n",
    "    def __str__(self):\n",
    "        return f\"This is a {self.species}.\"\n",
    "    \n",
    "class Dog(Animal):\n",
    "    def __init__(self, name, species):\n",
    "        self.name = name\n",
    "        Animal.__init__(self, species) # super().__init__(species)\n",
    "        \n",
    "    def __str__(self):\n",
    "        return f\"{self.name} is a part of the {self.species} species.\"\n",
    "        \n",
    "mammal = Animal(\"Mammal\")\n",
    "dog = Dog(\"Frank\", \"Mammal\")\n",
    "\n",
    "print(mammal)\n",
    "print(dog)"
   ]
  },
  {
   "cell_type": "markdown",
   "metadata": {},
   "source": [
    "#### Overriding Inherited Magic Methods"
   ]
  },
  {
   "cell_type": "code",
   "execution_count": null,
   "metadata": {},
   "outputs": [],
   "source": [
    "# see above"
   ]
  },
  {
   "cell_type": "markdown",
   "metadata": {},
   "source": [
    "#### Inheriting Multiple Classes"
   ]
  },
  {
   "cell_type": "code",
   "execution_count": 73,
   "metadata": {},
   "outputs": [
    {
     "name": "stdout",
     "output_type": "stream",
     "text": [
      "Bobby is a part of the canine species and runs 30 mph.\n"
     ]
    }
   ],
   "source": [
    "class Physics():\n",
    "    def __init__(self, speed):\n",
    "        self.gravity = 9.8\n",
    "        self.speed = speed\n",
    "    \n",
    "class Animal():\n",
    "    def __init__(self, species):\n",
    "        self.species = species\n",
    "        \n",
    "    def __str__(self):\n",
    "        return f\"This is a {self.species}.\"\n",
    "    \n",
    "class Dog(Animal,Physics):\n",
    "    def __init__(self, species, name, speed):\n",
    "        self.name = name\n",
    "        Animal.__init__(self, species) # super().__init__(species)\n",
    "        Physics.__init__(self, speed) # super().__init__(speed)\n",
    "        \n",
    "    def __str__(self):\n",
    "        return f\"{self.name} is a part of the {self.species} species and runs {self.speed} mph.\"\n",
    "\n",
    "dog1 = Dog('canine', 'Bobby', 30)\n",
    "\n",
    "print(dog1)"
   ]
  },
  {
   "cell_type": "markdown",
   "metadata": {},
   "source": [
    "#### Homework Excersise - Create a transportation class, a physics class, and a bus class <br>\n",
    "<p>Create a transportation class, a physics class, and a bus class... Have the Bus class inherit both the transportation class and physics class. The physics class should have an attribute of speed, and print out the speed, plus have an acceleration method. The transportation class should have a 'type_of_transportation' attribute, and print the type(type_of_transportation [i.e road/air]) that is being used. The bus class should have attributes that describe the bus, such as; wheels, color, size, etc. Overwrite the __str__ method so that when you print the object, it prints out the bus information, and the speed.</p>"
   ]
  },
  {
   "cell_type": "code",
   "execution_count": 3,
   "metadata": {},
   "outputs": [
    {
     "name": "stdout",
     "output_type": "stream",
     "text": [
      "This yellow bus has 8 wheels. It's a \"type C\" school bus, made in 2001 and it goes to a top speed of 50 mph.\n"
     ]
    }
   ],
   "source": [
    "class Transportation():\n",
    "    def __init__(self, type_of_transportation):\n",
    "        self.type_of_transportation = type_of_transportation\n",
    "    \n",
    "    def __str__(self):\n",
    "        return f\"Type of transportation: {type_of_transportation}.\"\n",
    "    \n",
    "class Physics():\n",
    "    def __init__(self, speed):\n",
    "        self.speed = speed\n",
    "    \n",
    "    def __str__(self):\n",
    "        return f\"It reaches speeds of {self.speed} mph.\"\n",
    "        \n",
    "    def a(self):\n",
    "        a = velocity / time\n",
    "    \n",
    "    def __str__(self):\n",
    "        return f\"In terms of velocity: {self.a}.\"\n",
    "    \n",
    "class Bus(Physics, Transportation):\n",
    "    def __init__(self, wheels, color, size, age, speed):\n",
    "        self.wheels = wheels\n",
    "        self.color = color\n",
    "        self.size = size\n",
    "        self.age = age\n",
    "        Physics.__init__(self, speed)\n",
    "        \n",
    "    def __str__(self):\n",
    "        return f'This {self.color} bus has {self.wheels} wheels. It\\'s a \"{self.size}\" school bus, made in {self.age} and it goes to a top speed of {self.speed} mph.'\n",
    "\n",
    "my_bus = Bus(8, 'yellow', 'type C', 2001, 50)\n",
    "\n",
    "print(my_bus)"
   ]
  },
  {
   "cell_type": "code",
   "execution_count": null,
   "metadata": {},
   "outputs": [],
   "source": []
  }
 ],
 "metadata": {
  "kernelspec": {
   "display_name": "Python 3",
   "language": "python",
   "name": "python3"
  },
  "language_info": {
   "codemirror_mode": {
    "name": "ipython",
    "version": 3
   },
   "file_extension": ".py",
   "mimetype": "text/x-python",
   "name": "python",
   "nbconvert_exporter": "python",
   "pygments_lexer": "ipython3",
   "version": "3.7.6"
  }
 },
 "nbformat": 4,
 "nbformat_minor": 2
}
